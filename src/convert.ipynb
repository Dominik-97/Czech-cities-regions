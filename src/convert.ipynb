{
 "cells": [
  {
   "cell_type": "code",
   "execution_count": null,
   "metadata": {},
   "outputs": [],
   "source": [
    "import pandas as pd\n",
    "\n",
    "CSV_path = r'../psc-list.csv'\n",
    "XML_path = r'../psc-list.xml'\n",
    "\n",
    "def convert_row(row):\n",
    "    return \"\"\"<psc num=\"%s\">\n",
    "    <kodcobce>%s</kodcobce>\n",
    "    <nazcobce>%s</nazcobce>\n",
    "    <kodobce>%s</kodobce>\n",
    "    <nazobce>%s</nazobce>\n",
    "    <kodokresu>%s</kodokresu>\n",
    "    <nazokresu>%s</nazokresu>\n",
    "    <kodkraj>%s</kodkraj>\n",
    "    <nazevkraj>%s</nazevkraj>\n",
    "    </psc>\"\"\" % (\n",
    "    row.psc, row.kodcobce, row.nazcobce, row.kodobce, row.nazobce, row.kodokresu, row.nazokresu, row.kodkraj, row.nazevkraj)\n",
    "\n",
    "df = pd.read_csv(CSV_path, encoding='windows-1250', sep=',')\n",
    "XML_output = '\\n'.join(df.apply(convert_row, axis=1))\n",
    "\n",
    "with open(XML_path, 'w', encoding='utf-8') as xmlf:\n",
    "    xmlf.write(r'<?xml version=\"1.0\" encoding=\"UTF-8\" ?>' + \n",
    "               '\\n' + \n",
    "               r'<!-- Poznámka: Seznam veškerých PSČ v České republice.. -->' +\n",
    "               '\\n' +\n",
    "               r'<list>' +\n",
    "               '\\n' +\n",
    "               XML_output + \n",
    "               '\\n' +\n",
    "               r'</list>')\n",
    "    xmlf.close()\n"
   ]
  },
  {
   "cell_type": "code",
   "execution_count": null,
   "metadata": {},
   "outputs": [],
   "source": [
    "import csv\n",
    "import json\n",
    "\n",
    "def make_json(csvFilePath, jsonFilePath):\n",
    "    data = {}\n",
    "\n",
    "    with open(csvFilePath, encoding='windows-1250') as csvf:\n",
    "        csvReader = csv.DictReader(csvf, delimiter=',')\n",
    "        for rows in csvReader:\n",
    "            key = rows['psc']\n",
    "            data[key] = rows\n",
    "\n",
    "    with open(jsonFilePath, 'w', encoding='utf-8') as jsonf:\n",
    "        jsonf.write(json.dumps(data, indent=4, ensure_ascii=False))\n",
    "\n",
    "csvFilePath = r'../psc-list.csv'\n",
    "jsonFilePath = r'../psc-list.json'\n",
    "\n",
    "make_json(csvFilePath, jsonFilePath)\n",
    "\n"
   ]
  },
  {
   "cell_type": "code",
   "execution_count": null,
   "metadata": {},
   "outputs": [],
   "source": [
    "CSV_path = r'../psc-list.csv'\n",
    "XSLX_path = r'../psc-list.xlsx'\n",
    "\n",
    "df = pd.read_csv(CSV_path, encoding='windows-1250', sep=',')\n",
    "df.to_excel(XSLX_path, index = None, header=True)"
   ]
  },
  {
   "cell_type": "code",
   "execution_count": null,
   "metadata": {},
   "outputs": [],
   "source": []
  }
 ],
 "metadata": {
  "kernelspec": {
   "display_name": "Python 3",
   "language": "python",
   "name": "python3"
  },
  "language_info": {
   "codemirror_mode": {
    "name": "ipython",
    "version": 3
   },
   "file_extension": ".py",
   "mimetype": "text/x-python",
   "name": "python",
   "nbconvert_exporter": "python",
   "pygments_lexer": "ipython3",
   "version": "3.8.3"
  }
 },
 "nbformat": 4,
 "nbformat_minor": 4
}
